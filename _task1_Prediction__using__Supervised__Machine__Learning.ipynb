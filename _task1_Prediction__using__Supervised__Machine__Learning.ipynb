{
  "cells": [
    {
      "cell_type": "markdown",
      "metadata": {
        "id": "view-in-github",
        "colab_type": "text"
      },
      "source": [
        "<a href=\"https://colab.research.google.com/github/ErSanjeevGupta/The-_Sparks-_Foundation-_Task/blob/main/_task1_Prediction__using__Supervised__Machine__Learning.ipynb\" target=\"_parent\"><img src=\"https://colab.research.google.com/assets/colab-badge.svg\" alt=\"Open In Colab\"/></a>"
      ]
    },
    {
      "cell_type": "markdown",
      "source": [
        "# Prediction Using Supervised Machine Learning\n",
        "\n",
        "\n",
        "*  Predict the percentage of an student based on the no. of study hours.\n",
        "*  This is a simple linear regression task as it involves just 2 variables.  \n",
        "\n"
      ],
      "metadata": {
        "id": "gwEtTvtpR64v"
      }
    },
    {
      "cell_type": "markdown",
      "source": [
        "\n",
        "*   **Target to be predicted score if student studies for 9.25hrs/day ???**"
      ],
      "metadata": {
        "id": "_eXB2CtHVXTa"
      }
    },
    {
      "cell_type": "markdown",
      "source": [
        "# The Sparks Foundation\n",
        "**Author : Sanjeev Gupta** \n",
        "\n",
        "**Data Science and Business Analytics Intern**"
      ],
      "metadata": {
        "id": "wp28OYouWFaY"
      }
    },
    {
      "cell_type": "markdown",
      "source": [
        "Dataset Referance : [datasetlink](http://bit.ly/w-data)"
      ],
      "metadata": {
        "id": "MvCBopGAXjBP"
      }
    },
    {
      "cell_type": "markdown",
      "source": [
        "\n",
        "\n",
        "*   https://www.javatpoint.com/linear-regression-in-machine-learning\n",
        "\n",
        "\n",
        "\n",
        "*  **Regression Analysis** helps to understand the relation between two or more variables by creating a predictive model.\n",
        "\n",
        "                   **y= f(x)**\n",
        "\n",
        "here: y is the dependent Variable (scores)\n",
        "      x is the independent variable (hours)\n",
        "\n",
        "\n",
        "    \n",
        "*   **Linear Regression** is a predictive model used for finding the linear relationship b/w a **dependent variables (y)** and one or more **independent variables (x)**\n",
        "\n",
        "\n",
        "                    **y = mx  + c  **\n",
        "\n",
        " \n",
        "\n",
        "\n",
        "![image.png](data:image/png;base64,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)"
      ],
      "metadata": {
        "id": "16waCoxWX_C0"
      }
    },
    {
      "cell_type": "markdown",
      "metadata": {
        "id": "7jtU71T24kgR"
      },
      "source": [
        "# Import python library & Dataset:"
      ]
    },
    {
      "cell_type": "code",
      "execution_count": null,
      "metadata": {
        "id": "o19-9AYEt2eM"
      },
      "outputs": [],
      "source": [
        "#importing require library\n",
        "import numpy as np\n",
        "import pandas as pd\n",
        "import seaborn as sns\n",
        "import matplotlib.pyplot as plt\n",
        "%matplotlib inline"
      ]
    },
    {
      "cell_type": "code",
      "execution_count": null,
      "metadata": {
        "id": "9-rcU37ayA4t"
      },
      "outputs": [],
      "source": [
        "#import main dataset\n",
        "df=pd.read_csv('http://bit.ly/w-data')"
      ]
    },
    {
      "cell_type": "markdown",
      "metadata": {
        "id": "DhI-BAc34Z7C"
      },
      "source": [
        "# Data visualization"
      ]
    },
    {
      "cell_type": "code",
      "execution_count": null,
      "metadata": {
        "colab": {
          "base_uri": "https://localhost:8080/",
          "height": 206
        },
        "id": "8vPyRsJQy5Aq",
        "outputId": "74097be9-c296-4471-ad6b-424ba7f2f81c"
      },
      "outputs": [
        {
          "data": {
            "text/html": [
              "<div>\n",
              "<style scoped>\n",
              "    .dataframe tbody tr th:only-of-type {\n",
              "        vertical-align: middle;\n",
              "    }\n",
              "\n",
              "    .dataframe tbody tr th {\n",
              "        vertical-align: top;\n",
              "    }\n",
              "\n",
              "    .dataframe thead th {\n",
              "        text-align: right;\n",
              "    }\n",
              "</style>\n",
              "<table border=\"1\" class=\"dataframe\">\n",
              "  <thead>\n",
              "    <tr style=\"text-align: right;\">\n",
              "      <th></th>\n",
              "      <th>Hours</th>\n",
              "      <th>Scores</th>\n",
              "    </tr>\n",
              "  </thead>\n",
              "  <tbody>\n",
              "    <tr>\n",
              "      <th>0</th>\n",
              "      <td>2.5</td>\n",
              "      <td>21</td>\n",
              "    </tr>\n",
              "    <tr>\n",
              "      <th>1</th>\n",
              "      <td>5.1</td>\n",
              "      <td>47</td>\n",
              "    </tr>\n",
              "    <tr>\n",
              "      <th>2</th>\n",
              "      <td>3.2</td>\n",
              "      <td>27</td>\n",
              "    </tr>\n",
              "    <tr>\n",
              "      <th>3</th>\n",
              "      <td>8.5</td>\n",
              "      <td>75</td>\n",
              "    </tr>\n",
              "    <tr>\n",
              "      <th>4</th>\n",
              "      <td>3.5</td>\n",
              "      <td>30</td>\n",
              "    </tr>\n",
              "  </tbody>\n",
              "</table>\n",
              "</div>"
            ],
            "text/plain": [
              "   Hours  Scores\n",
              "0    2.5      21\n",
              "1    5.1      47\n",
              "2    3.2      27\n",
              "3    8.5      75\n",
              "4    3.5      30"
            ]
          },
          "execution_count": 4,
          "metadata": {},
          "output_type": "execute_result"
        }
      ],
      "source": [
        "df.head()"
      ]
    },
    {
      "cell_type": "code",
      "execution_count": null,
      "metadata": {
        "colab": {
          "base_uri": "https://localhost:8080/",
          "height": 206
        },
        "id": "gB5EKX9zzPNf",
        "outputId": "e81e157d-e36a-45e6-b975-64bfb406caad"
      },
      "outputs": [
        {
          "data": {
            "text/html": [
              "<div>\n",
              "<style scoped>\n",
              "    .dataframe tbody tr th:only-of-type {\n",
              "        vertical-align: middle;\n",
              "    }\n",
              "\n",
              "    .dataframe tbody tr th {\n",
              "        vertical-align: top;\n",
              "    }\n",
              "\n",
              "    .dataframe thead th {\n",
              "        text-align: right;\n",
              "    }\n",
              "</style>\n",
              "<table border=\"1\" class=\"dataframe\">\n",
              "  <thead>\n",
              "    <tr style=\"text-align: right;\">\n",
              "      <th></th>\n",
              "      <th>Hours</th>\n",
              "      <th>Scores</th>\n",
              "    </tr>\n",
              "  </thead>\n",
              "  <tbody>\n",
              "    <tr>\n",
              "      <th>20</th>\n",
              "      <td>2.7</td>\n",
              "      <td>30</td>\n",
              "    </tr>\n",
              "    <tr>\n",
              "      <th>21</th>\n",
              "      <td>4.8</td>\n",
              "      <td>54</td>\n",
              "    </tr>\n",
              "    <tr>\n",
              "      <th>22</th>\n",
              "      <td>3.8</td>\n",
              "      <td>35</td>\n",
              "    </tr>\n",
              "    <tr>\n",
              "      <th>23</th>\n",
              "      <td>6.9</td>\n",
              "      <td>76</td>\n",
              "    </tr>\n",
              "    <tr>\n",
              "      <th>24</th>\n",
              "      <td>7.8</td>\n",
              "      <td>86</td>\n",
              "    </tr>\n",
              "  </tbody>\n",
              "</table>\n",
              "</div>"
            ],
            "text/plain": [
              "    Hours  Scores\n",
              "20    2.7      30\n",
              "21    4.8      54\n",
              "22    3.8      35\n",
              "23    6.9      76\n",
              "24    7.8      86"
            ]
          },
          "execution_count": 5,
          "metadata": {},
          "output_type": "execute_result"
        }
      ],
      "source": [
        "df.tail()"
      ]
    },
    {
      "cell_type": "code",
      "execution_count": null,
      "metadata": {
        "colab": {
          "base_uri": "https://localhost:8080/",
          "height": 300
        },
        "id": "v-odcuJc14Qv",
        "outputId": "7df21e93-4186-4d7c-ddb0-4e518b3b226d"
      },
      "outputs": [
        {
          "data": {
            "text/html": [
              "<div>\n",
              "<style scoped>\n",
              "    .dataframe tbody tr th:only-of-type {\n",
              "        vertical-align: middle;\n",
              "    }\n",
              "\n",
              "    .dataframe tbody tr th {\n",
              "        vertical-align: top;\n",
              "    }\n",
              "\n",
              "    .dataframe thead th {\n",
              "        text-align: right;\n",
              "    }\n",
              "</style>\n",
              "<table border=\"1\" class=\"dataframe\">\n",
              "  <thead>\n",
              "    <tr style=\"text-align: right;\">\n",
              "      <th></th>\n",
              "      <th>Hours</th>\n",
              "      <th>Scores</th>\n",
              "    </tr>\n",
              "  </thead>\n",
              "  <tbody>\n",
              "    <tr>\n",
              "      <th>count</th>\n",
              "      <td>25.000000</td>\n",
              "      <td>25.000000</td>\n",
              "    </tr>\n",
              "    <tr>\n",
              "      <th>mean</th>\n",
              "      <td>5.012000</td>\n",
              "      <td>51.480000</td>\n",
              "    </tr>\n",
              "    <tr>\n",
              "      <th>std</th>\n",
              "      <td>2.525094</td>\n",
              "      <td>25.286887</td>\n",
              "    </tr>\n",
              "    <tr>\n",
              "      <th>min</th>\n",
              "      <td>1.100000</td>\n",
              "      <td>17.000000</td>\n",
              "    </tr>\n",
              "    <tr>\n",
              "      <th>25%</th>\n",
              "      <td>2.700000</td>\n",
              "      <td>30.000000</td>\n",
              "    </tr>\n",
              "    <tr>\n",
              "      <th>50%</th>\n",
              "      <td>4.800000</td>\n",
              "      <td>47.000000</td>\n",
              "    </tr>\n",
              "    <tr>\n",
              "      <th>75%</th>\n",
              "      <td>7.400000</td>\n",
              "      <td>75.000000</td>\n",
              "    </tr>\n",
              "    <tr>\n",
              "      <th>max</th>\n",
              "      <td>9.200000</td>\n",
              "      <td>95.000000</td>\n",
              "    </tr>\n",
              "  </tbody>\n",
              "</table>\n",
              "</div>"
            ],
            "text/plain": [
              "           Hours     Scores\n",
              "count  25.000000  25.000000\n",
              "mean    5.012000  51.480000\n",
              "std     2.525094  25.286887\n",
              "min     1.100000  17.000000\n",
              "25%     2.700000  30.000000\n",
              "50%     4.800000  47.000000\n",
              "75%     7.400000  75.000000\n",
              "max     9.200000  95.000000"
            ]
          },
          "execution_count": 6,
          "metadata": {},
          "output_type": "execute_result"
        }
      ],
      "source": [
        "df.describe()"
      ]
    },
    {
      "cell_type": "code",
      "execution_count": null,
      "metadata": {
        "colab": {
          "base_uri": "https://localhost:8080/"
        },
        "id": "ydhdJtXK2MAQ",
        "outputId": "09b2fc4b-b3d2-40d8-b13f-d1437bb7b34c"
      },
      "outputs": [
        {
          "name": "stdout",
          "output_type": "stream",
          "text": [
            "<class 'pandas.core.frame.DataFrame'>\n",
            "RangeIndex: 25 entries, 0 to 24\n",
            "Data columns (total 2 columns):\n",
            " #   Column  Non-Null Count  Dtype  \n",
            "---  ------  --------------  -----  \n",
            " 0   Hours   25 non-null     float64\n",
            " 1   Scores  25 non-null     int64  \n",
            "dtypes: float64(1), int64(1)\n",
            "memory usage: 528.0 bytes\n"
          ]
        }
      ],
      "source": [
        "df.info()"
      ]
    },
    {
      "cell_type": "code",
      "execution_count": null,
      "metadata": {
        "colab": {
          "base_uri": "https://localhost:8080/",
          "height": 295
        },
        "id": "2STvtpA_2Uyj",
        "outputId": "da41d137-6a3a-4e52-d174-7682347ccadd"
      },
      "outputs": [
        {
          "data": {
            "image/png": "[encoded data removed]",
            "text/plain": [
              "<Figure size 432x288 with 1 Axes>"
            ]
          },
          "metadata": {
            "needs_background": "light"
          },
          "output_type": "display_data"
        }
      ],
      "source": [
        "sns.scatterplot(x='Hours',y='Scores',data=df)\n",
        "plt.title('hours vs scores')\n",
        "plt.grid()\n",
        "plt.show()"
      ]
    },
    {
      "cell_type": "code",
      "execution_count": null,
      "metadata": {
        "colab": {
          "base_uri": "https://localhost:8080/",
          "height": 390
        },
        "id": "f7IQLG3ssFYn",
        "outputId": "7c92826b-4185-4795-d339-9011174316e3"
      },
      "outputs": [
        {
          "data": {
            "image/png": "[encoded data removed]",
            "text/plain": [
              "<Figure size 432x288 with 1 Axes>"
            ]
          },
          "metadata": {
            "needs_background": "light"
          },
          "output_type": "display_data"
        },
        {
          "data": {
            "text/html": [
              "<div>\n",
              "<style scoped>\n",
              "    .dataframe tbody tr th:only-of-type {\n",
              "        vertical-align: middle;\n",
              "    }\n",
              "\n",
              "    .dataframe tbody tr th {\n",
              "        vertical-align: top;\n",
              "    }\n",
              "\n",
              "    .dataframe thead th {\n",
              "        text-align: right;\n",
              "    }\n",
              "</style>\n",
              "<table border=\"1\" class=\"dataframe\">\n",
              "  <thead>\n",
              "    <tr style=\"text-align: right;\">\n",
              "      <th></th>\n",
              "      <th>Hours</th>\n",
              "      <th>Scores</th>\n",
              "    </tr>\n",
              "  </thead>\n",
              "  <tbody>\n",
              "    <tr>\n",
              "      <th>Hours</th>\n",
              "      <td>1.000000</td>\n",
              "      <td>0.976191</td>\n",
              "    </tr>\n",
              "    <tr>\n",
              "      <th>Scores</th>\n",
              "      <td>0.976191</td>\n",
              "      <td>1.000000</td>\n",
              "    </tr>\n",
              "  </tbody>\n",
              "</table>\n",
              "</div>"
            ],
            "text/plain": [
              "           Hours    Scores\n",
              "Hours   1.000000  0.976191\n",
              "Scores  0.976191  1.000000"
            ]
          },
          "execution_count": 9,
          "metadata": {},
          "output_type": "execute_result"
        }
      ],
      "source": [
        "sns.regplot(x='Hours',y='Scores',data=df)\n",
        "plt.title('Regression plot')\n",
        "plt.grid()\n",
        "plt.show()\n",
        "\n",
        "df.corr()"
      ]
    },
    {
      "cell_type": "markdown",
      "metadata": {
        "id": "syIBhU0x6pe_"
      },
      "source": [
        "# To set dependent and Independent Variable"
      ]
    },
    {
      "cell_type": "code",
      "execution_count": null,
      "metadata": {
        "id": "6d6nTJPn4EqO"
      },
      "outputs": [],
      "source": [
        "x = df[['Hours']]\n",
        "y = df[['Scores']]\n"
      ]
    },
    {
      "cell_type": "markdown",
      "metadata": {
        "id": "EI2QaqYq6MbO"
      },
      "source": [
        "# Divide into Training and Test sets\n",
        "\n",
        "\n",
        "*   By using Scikit- Learn'built-in train_test_split() method\n"
      ]
    },
    {
      "cell_type": "code",
      "execution_count": null,
      "metadata": {
        "id": "wTh_UrpP6G1b"
      },
      "outputs": [],
      "source": [
        "from sklearn.model_selection import train_test_split"
      ]
    },
    {
      "cell_type": "code",
      "execution_count": null,
      "metadata": {
        "id": "NOI2RWYX-Fb4"
      },
      "outputs": [],
      "source": [
        "x_train,x_test,y_train,y_test=train_test_split(x,y,test_size=0.2)"
      ]
    },
    {
      "cell_type": "markdown",
      "metadata": {
        "id": "sCnGXhpg_6t5"
      },
      "source": [
        "# Printing Training & Test Sets:"
      ]
    },
    {
      "cell_type": "code",
      "execution_count": null,
      "metadata": {
        "colab": {
          "base_uri": "https://localhost:8080/",
          "height": 206
        },
        "id": "aWqNbsV2_EmP",
        "outputId": "ce2ea35c-4039-4773-919a-f08184422d6d"
      },
      "outputs": [
        {
          "data": {
            "text/html": [
              "<div>\n",
              "<style scoped>\n",
              "    .dataframe tbody tr th:only-of-type {\n",
              "        vertical-align: middle;\n",
              "    }\n",
              "\n",
              "    .dataframe tbody tr th {\n",
              "        vertical-align: top;\n",
              "    }\n",
              "\n",
              "    .dataframe thead th {\n",
              "        text-align: right;\n",
              "    }\n",
              "</style>\n",
              "<table border=\"1\" class=\"dataframe\">\n",
              "  <thead>\n",
              "    <tr style=\"text-align: right;\">\n",
              "      <th></th>\n",
              "      <th>Hours</th>\n",
              "    </tr>\n",
              "  </thead>\n",
              "  <tbody>\n",
              "    <tr>\n",
              "      <th>0</th>\n",
              "      <td>2.5</td>\n",
              "    </tr>\n",
              "    <tr>\n",
              "      <th>9</th>\n",
              "      <td>2.7</td>\n",
              "    </tr>\n",
              "    <tr>\n",
              "      <th>18</th>\n",
              "      <td>6.1</td>\n",
              "    </tr>\n",
              "    <tr>\n",
              "      <th>7</th>\n",
              "      <td>5.5</td>\n",
              "    </tr>\n",
              "    <tr>\n",
              "      <th>22</th>\n",
              "      <td>3.8</td>\n",
              "    </tr>\n",
              "  </tbody>\n",
              "</table>\n",
              "</div>"
            ],
            "text/plain": [
              "    Hours\n",
              "0     2.5\n",
              "9     2.7\n",
              "18    6.1\n",
              "7     5.5\n",
              "22    3.8"
            ]
          },
          "execution_count": 13,
          "metadata": {},
          "output_type": "execute_result"
        }
      ],
      "source": [
        "x_train.head()"
      ]
    },
    {
      "cell_type": "code",
      "execution_count": null,
      "metadata": {
        "colab": {
          "base_uri": "https://localhost:8080/",
          "height": 206
        },
        "id": "6JVu5qky_UNo",
        "outputId": "3ea0843f-d75c-4eda-da7e-2b15c6cb68af"
      },
      "outputs": [
        {
          "data": {
            "text/html": [
              "<div>\n",
              "<style scoped>\n",
              "    .dataframe tbody tr th:only-of-type {\n",
              "        vertical-align: middle;\n",
              "    }\n",
              "\n",
              "    .dataframe tbody tr th {\n",
              "        vertical-align: top;\n",
              "    }\n",
              "\n",
              "    .dataframe thead th {\n",
              "        text-align: right;\n",
              "    }\n",
              "</style>\n",
              "<table border=\"1\" class=\"dataframe\">\n",
              "  <thead>\n",
              "    <tr style=\"text-align: right;\">\n",
              "      <th></th>\n",
              "      <th>Hours</th>\n",
              "    </tr>\n",
              "  </thead>\n",
              "  <tbody>\n",
              "    <tr>\n",
              "      <th>16</th>\n",
              "      <td>2.5</td>\n",
              "    </tr>\n",
              "    <tr>\n",
              "      <th>23</th>\n",
              "      <td>6.9</td>\n",
              "    </tr>\n",
              "    <tr>\n",
              "      <th>6</th>\n",
              "      <td>9.2</td>\n",
              "    </tr>\n",
              "    <tr>\n",
              "      <th>1</th>\n",
              "      <td>5.1</td>\n",
              "    </tr>\n",
              "    <tr>\n",
              "      <th>12</th>\n",
              "      <td>4.5</td>\n",
              "    </tr>\n",
              "  </tbody>\n",
              "</table>\n",
              "</div>"
            ],
            "text/plain": [
              "    Hours\n",
              "16    2.5\n",
              "23    6.9\n",
              "6     9.2\n",
              "1     5.1\n",
              "12    4.5"
            ]
          },
          "execution_count": 14,
          "metadata": {},
          "output_type": "execute_result"
        }
      ],
      "source": [
        "x_test.head()"
      ]
    },
    {
      "cell_type": "code",
      "execution_count": null,
      "metadata": {
        "colab": {
          "base_uri": "https://localhost:8080/",
          "height": 206
        },
        "id": "xY-sijUn_ddA",
        "outputId": "c825960c-226b-49b5-918f-98d7e25f6ab0"
      },
      "outputs": [
        {
          "data": {
            "text/html": [
              "<div>\n",
              "<style scoped>\n",
              "    .dataframe tbody tr th:only-of-type {\n",
              "        vertical-align: middle;\n",
              "    }\n",
              "\n",
              "    .dataframe tbody tr th {\n",
              "        vertical-align: top;\n",
              "    }\n",
              "\n",
              "    .dataframe thead th {\n",
              "        text-align: right;\n",
              "    }\n",
              "</style>\n",
              "<table border=\"1\" class=\"dataframe\">\n",
              "  <thead>\n",
              "    <tr style=\"text-align: right;\">\n",
              "      <th></th>\n",
              "      <th>Scores</th>\n",
              "    </tr>\n",
              "  </thead>\n",
              "  <tbody>\n",
              "    <tr>\n",
              "      <th>0</th>\n",
              "      <td>21</td>\n",
              "    </tr>\n",
              "    <tr>\n",
              "      <th>9</th>\n",
              "      <td>25</td>\n",
              "    </tr>\n",
              "    <tr>\n",
              "      <th>18</th>\n",
              "      <td>67</td>\n",
              "    </tr>\n",
              "    <tr>\n",
              "      <th>7</th>\n",
              "      <td>60</td>\n",
              "    </tr>\n",
              "    <tr>\n",
              "      <th>22</th>\n",
              "      <td>35</td>\n",
              "    </tr>\n",
              "  </tbody>\n",
              "</table>\n",
              "</div>"
            ],
            "text/plain": [
              "    Scores\n",
              "0       21\n",
              "9       25\n",
              "18      67\n",
              "7       60\n",
              "22      35"
            ]
          },
          "execution_count": 15,
          "metadata": {},
          "output_type": "execute_result"
        }
      ],
      "source": [
        "y_train.head()"
      ]
    },
    {
      "cell_type": "code",
      "execution_count": null,
      "metadata": {
        "colab": {
          "base_uri": "https://localhost:8080/",
          "height": 206
        },
        "id": "vX1uRjhx_pUr",
        "outputId": "d906313b-91d1-4af6-98ac-4c2e33e9a694"
      },
      "outputs": [
        {
          "data": {
            "text/html": [
              "<div>\n",
              "<style scoped>\n",
              "    .dataframe tbody tr th:only-of-type {\n",
              "        vertical-align: middle;\n",
              "    }\n",
              "\n",
              "    .dataframe tbody tr th {\n",
              "        vertical-align: top;\n",
              "    }\n",
              "\n",
              "    .dataframe thead th {\n",
              "        text-align: right;\n",
              "    }\n",
              "</style>\n",
              "<table border=\"1\" class=\"dataframe\">\n",
              "  <thead>\n",
              "    <tr style=\"text-align: right;\">\n",
              "      <th></th>\n",
              "      <th>Scores</th>\n",
              "    </tr>\n",
              "  </thead>\n",
              "  <tbody>\n",
              "    <tr>\n",
              "      <th>16</th>\n",
              "      <td>30</td>\n",
              "    </tr>\n",
              "    <tr>\n",
              "      <th>23</th>\n",
              "      <td>76</td>\n",
              "    </tr>\n",
              "    <tr>\n",
              "      <th>6</th>\n",
              "      <td>88</td>\n",
              "    </tr>\n",
              "    <tr>\n",
              "      <th>1</th>\n",
              "      <td>47</td>\n",
              "    </tr>\n",
              "    <tr>\n",
              "      <th>12</th>\n",
              "      <td>41</td>\n",
              "    </tr>\n",
              "  </tbody>\n",
              "</table>\n",
              "</div>"
            ],
            "text/plain": [
              "    Scores\n",
              "16      30\n",
              "23      76\n",
              "6       88\n",
              "1       47\n",
              "12      41"
            ]
          },
          "execution_count": 16,
          "metadata": {},
          "output_type": "execute_result"
        }
      ],
      "source": [
        "y_test.head()"
      ]
    },
    {
      "cell_type": "markdown",
      "metadata": {
        "id": "Jk2HAz9FAZ91"
      },
      "source": [
        "# Impporting Linear Regression Model"
      ]
    },
    {
      "cell_type": "code",
      "execution_count": null,
      "metadata": {
        "id": "5ctKv9VC_ztp"
      },
      "outputs": [],
      "source": [
        "from sklearn.linear_model import LinearRegression"
      ]
    },
    {
      "cell_type": "code",
      "execution_count": null,
      "metadata": {
        "id": "6wF3iUb2BCQv"
      },
      "outputs": [],
      "source": [
        "lr=LinearRegression()"
      ]
    },
    {
      "cell_type": "code",
      "execution_count": null,
      "metadata": {
        "colab": {
          "base_uri": "https://localhost:8080/"
        },
        "id": "Tu0xEeEGBMOJ",
        "outputId": "70067121-34ae-472e-97b0-272210a3de05"
      },
      "outputs": [
        {
          "data": {
            "text/plain": [
              "LinearRegression()"
            ]
          },
          "execution_count": 19,
          "metadata": {},
          "output_type": "execute_result"
        }
      ],
      "source": [
        "lr.fit(x_train,y_train)"
      ]
    },
    {
      "cell_type": "markdown",
      "metadata": {
        "id": "8RHUkzllDCkx"
      },
      "source": [
        "# Comparing actual vs Predicted Value"
      ]
    },
    {
      "cell_type": "code",
      "execution_count": null,
      "metadata": {
        "colab": {
          "base_uri": "https://localhost:8080/"
        },
        "id": "E3JY_TyBCXYj",
        "outputId": "c1f55748-5378-4938-9d25-bdf7970d7b54"
      },
      "outputs": [
        {
          "data": {
            "text/plain": [
              "array([[26.97482969],\n",
              "       [70.46134746],\n",
              "       [93.1929363 ],\n",
              "       [52.67140838],\n",
              "       [46.74142868]])"
            ]
          },
          "execution_count": 20,
          "metadata": {},
          "output_type": "execute_result"
        }
      ],
      "source": [
        "lr.predict(x_test) #predicted on test set"
      ]
    },
    {
      "cell_type": "code",
      "execution_count": null,
      "metadata": {
        "id": "JdfFSqu_C3l-"
      },
      "outputs": [],
      "source": [
        "y_pred=lr.predict(x_test) #store predicted value"
      ]
    },
    {
      "cell_type": "code",
      "execution_count": null,
      "metadata": {
        "colab": {
          "base_uri": "https://localhost:8080/",
          "height": 206
        },
        "id": "m7G0nwHiER63",
        "outputId": "0badae1d-0e7a-4130-9858-939cd1fe0d4b"
      },
      "outputs": [
        {
          "data": {
            "text/html": [
              "<div>\n",
              "<style scoped>\n",
              "    .dataframe tbody tr th:only-of-type {\n",
              "        vertical-align: middle;\n",
              "    }\n",
              "\n",
              "    .dataframe tbody tr th {\n",
              "        vertical-align: top;\n",
              "    }\n",
              "\n",
              "    .dataframe thead th {\n",
              "        text-align: right;\n",
              "    }\n",
              "</style>\n",
              "<table border=\"1\" class=\"dataframe\">\n",
              "  <thead>\n",
              "    <tr style=\"text-align: right;\">\n",
              "      <th></th>\n",
              "      <th>Scores</th>\n",
              "    </tr>\n",
              "  </thead>\n",
              "  <tbody>\n",
              "    <tr>\n",
              "      <th>16</th>\n",
              "      <td>30</td>\n",
              "    </tr>\n",
              "    <tr>\n",
              "      <th>23</th>\n",
              "      <td>76</td>\n",
              "    </tr>\n",
              "    <tr>\n",
              "      <th>6</th>\n",
              "      <td>88</td>\n",
              "    </tr>\n",
              "    <tr>\n",
              "      <th>1</th>\n",
              "      <td>47</td>\n",
              "    </tr>\n",
              "    <tr>\n",
              "      <th>12</th>\n",
              "      <td>41</td>\n",
              "    </tr>\n",
              "  </tbody>\n",
              "</table>\n",
              "</div>"
            ],
            "text/plain": [
              "    Scores\n",
              "16      30\n",
              "23      76\n",
              "6       88\n",
              "1       47\n",
              "12      41"
            ]
          },
          "execution_count": 22,
          "metadata": {},
          "output_type": "execute_result"
        }
      ],
      "source": [
        "y_test.head()   # actual values"
      ]
    },
    {
      "cell_type": "code",
      "execution_count": null,
      "metadata": {
        "colab": {
          "base_uri": "https://localhost:8080/"
        },
        "id": "qMIPKRh4E0qQ",
        "outputId": "23a23e43-72c1-4465-a006-abd326930c4c"
      },
      "outputs": [
        {
          "data": {
            "text/plain": [
              "array([[26.97482969],\n",
              "       [70.46134746],\n",
              "       [93.1929363 ],\n",
              "       [52.67140838],\n",
              "       [46.74142868]])"
            ]
          },
          "execution_count": 23,
          "metadata": {},
          "output_type": "execute_result"
        }
      ],
      "source": [
        "y_pred[0:5]   #Predicted value"
      ]
    },
    {
      "cell_type": "code",
      "execution_count": null,
      "metadata": {
        "colab": {
          "base_uri": "https://localhost:8080/",
          "height": 81
        },
        "id": "l54PFlyQzHTz",
        "outputId": "0736c0a7-0cbe-4e00-fb5d-2fede9640e69"
      },
      "outputs": [
        {
          "data": {
            "text/html": [
              "<div>\n",
              "<style scoped>\n",
              "    .dataframe tbody tr th:only-of-type {\n",
              "        vertical-align: middle;\n",
              "    }\n",
              "\n",
              "    .dataframe tbody tr th {\n",
              "        vertical-align: top;\n",
              "    }\n",
              "\n",
              "    .dataframe thead th {\n",
              "        text-align: right;\n",
              "    }\n",
              "</style>\n",
              "<table border=\"1\" class=\"dataframe\">\n",
              "  <thead>\n",
              "    <tr style=\"text-align: right;\">\n",
              "      <th></th>\n",
              "      <th>Predicted</th>\n",
              "      <th>Actual</th>\n",
              "    </tr>\n",
              "  </thead>\n",
              "  <tbody>\n",
              "    <tr>\n",
              "      <th>0</th>\n",
              "      <td>Scores\n",
              "16      30\n",
              "23      76\n",
              "6       88\n",
              "1 ...</td>\n",
              "      <td>[[26.974829694952717], [70.46134746234466], [9...</td>\n",
              "    </tr>\n",
              "  </tbody>\n",
              "</table>\n",
              "</div>"
            ],
            "text/plain": [
              "                                           Predicted  \\\n",
              "0      Scores\n",
              "16      30\n",
              "23      76\n",
              "6       88\n",
              "1 ...   \n",
              "\n",
              "                                              Actual  \n",
              "0  [[26.974829694952717], [70.46134746234466], [9...  "
            ]
          },
          "execution_count": 40,
          "metadata": {},
          "output_type": "execute_result"
        }
      ],
      "source": [
        "df1=pd.DataFrame({'Predicted' :[y_test], 'Actual' : [y_pred]})\n",
        "df1"
      ]
    },
    {
      "cell_type": "code",
      "execution_count": null,
      "metadata": {
        "id": "IsxQsVQUQWct"
      },
      "outputs": [],
      "source": [
        "#"
      ]
    },
    {
      "cell_type": "markdown",
      "metadata": {
        "id": "Id5mY28iLSmU"
      },
      "source": [
        "# Finding error/residual in Prediction"
      ]
    },
    {
      "cell_type": "code",
      "execution_count": null,
      "metadata": {
        "id": "FaGC2KojIgJw"
      },
      "outputs": [],
      "source": [
        "from sklearn.metrics import mean_squared_error\n",
        "from sklearn.metrics import mean_absolute_error #importing modules"
      ]
    },
    {
      "cell_type": "code",
      "execution_count": null,
      "metadata": {
        "colab": {
          "base_uri": "https://localhost:8080/"
        },
        "id": "ALd1MDMSyzoi",
        "outputId": "a6d70672-2268-46ab-af22-965681cc7d9e"
      },
      "outputs": [
        {
          "name": "stdout",
          "output_type": "stream",
          "text": [
            "No. of hours=9.25\n",
            "predicted scores=[93.68710127]\n"
          ]
        }
      ],
      "source": [
        "Hours=9.25\n",
        "own_data=lr.predict([[Hours]])\n",
        "print('No. of hours={}'.format(Hours))\n",
        "print('predicted scores={}'.format(own_data[0]))"
      ]
    },
    {
      "cell_type": "markdown",
      "metadata": {
        "id": "8H32Kv2b5gmm"
      },
      "source": [
        "# Evaluating the model"
      ]
    },
    {
      "cell_type": "code",
      "execution_count": null,
      "metadata": {
        "colab": {
          "base_uri": "https://localhost:8080/"
        },
        "id": "-kWQ8f24MDLV",
        "outputId": "426b45ce-f46c-4de2-ce2e-257b76e6ea4e"
      },
      "outputs": [
        {
          "data": {
            "text/plain": [
              "26.384758185453315"
            ]
          },
          "execution_count": 27,
          "metadata": {},
          "output_type": "execute_result"
        }
      ],
      "source": [
        "mean_squared_error(y_test,y_pred)"
      ]
    },
    {
      "cell_type": "code",
      "execution_count": null,
      "metadata": {
        "colab": {
          "base_uri": "https://localhost:8080/"
        },
        "id": "wv4bL-Mcyklh",
        "outputId": "abc38ed1-ea81-4e57-9e13-1a0413bf2811"
      },
      "outputs": [
        {
          "data": {
            "text/plain": [
              "5.033919238763469"
            ]
          },
          "execution_count": 28,
          "metadata": {},
          "output_type": "execute_result"
        }
      ],
      "source": [
        "mean_absolute_error(y_test,y_pred)"
      ]
    },
    {
      "cell_type": "code",
      "execution_count": null,
      "metadata": {
        "id": "a6-S7wsMQWcx"
      },
      "outputs": [],
      "source": [
        "#thank you TO ALL OF YOU!"
      ]
    },
    {
      "cell_type": "code",
      "execution_count": null,
      "metadata": {
        "id": "dXMRyMK_QWcx"
      },
      "outputs": [],
      "source": [
        "# THE SPARK FOUNDATION (DATA SCIENCE & BUSINESS ANALYTICS INTERN)"
      ]
    }
  ],
  "metadata": {
    "colab": {
      "collapsed_sections": [],
      "name": "#task1 Prediction _using_ Supervised_ Machine_ Learning.ipynb",
      "provenance": [],
      "toc_visible": true,
      "include_colab_link": true
    },
    "kernelspec": {
      "display_name": "Python 3 (ipykernel)",
      "language": "python",
      "name": "python3"
    },
    "language_info": {
      "codemirror_mode": {
        "name": "ipython",
        "version": 3
      },
      "file_extension": ".py",
      "mimetype": "text/x-python",
      "name": "python",
      "nbconvert_exporter": "python",
      "pygments_lexer": "ipython3",
      "version": "3.9.7"
    }
  },
  "nbformat": 4,
  "nbformat_minor": 0
}